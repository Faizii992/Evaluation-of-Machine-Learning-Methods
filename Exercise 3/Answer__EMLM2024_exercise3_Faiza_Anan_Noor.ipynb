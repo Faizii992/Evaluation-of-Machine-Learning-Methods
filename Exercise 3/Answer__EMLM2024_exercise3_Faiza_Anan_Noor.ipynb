{
  "cells": [
    {
      "cell_type": "markdown",
      "metadata": {
        "id": "C_yM2Aov6hrf"
      },
      "source": [
        "# Exercise 3 | TKO_7092 Evaluation of Machine Learning Methods 2024\n",
        "## deadline: 14.2.2024 - 23:59\n",
        "\n",
        "Regarding any questions about this exercise, please contact course assistant Jonne Pohjankukka (jjepoh@utu.fi)\n",
        "\n",
        "********************************************\n",
        "\n",
        "Student name: Faiza Anan Noor\n",
        "\n",
        "Student number: 2306676\n",
        "\n",
        "Student email: fanoor@utu.fi\n",
        "\n",
        "********************************************"
      ]
    },
    {
      "cell_type": "code",
      "source": [
        "from google.colab import drive\n",
        "drive.mount('/content/drive')"
      ],
      "metadata": {
        "colab": {
          "base_uri": "https://localhost:8080/"
        },
        "id": "BN2wlvnm633a",
        "outputId": "ceb8d2cb-fb9f-41fa-b657-40b1fd4885c8"
      },
      "execution_count": 1,
      "outputs": [
        {
          "output_type": "stream",
          "name": "stdout",
          "text": [
            "Mounted at /content/drive\n"
          ]
        }
      ]
    },
    {
      "cell_type": "markdown",
      "metadata": {
        "id": "hqG_No_a6hrq"
      },
      "source": [
        "## Water permeability prediction in forestry <br>\n",
        "\n",
        "In this task, the client wants you to estimate the spatial prediction performance of K-nearest neighbor regression model with K=15 (15NN), using spatial leave-one-out cross-validation (i.e. SKCV, with number of folds == number of data points). The client wants you to use the C-index as the performance measure.  \n",
        "\n",
        "In other words, the client wants you to answer the question: \"What happens to the prediction performance of water permeability using 15-nearest neighbor regression model, when the geographical distance between known data and unknown data increases?\".\n",
        "\n",
        "In this task, you have three data files available (with 1691 data points):\n",
        "\n",
        "- input.csv, contains the 75 predictor features.\n",
        "- output.csv, contains the water permebility values.\n",
        "- coordinates.csv, contains the corresponding geographical coordinate locations of the data points. The unit of the coordinates is metre, and you can use Euclidean distance to calculate distances between the coordinate points.\n",
        "\n",
        "Implement the following tasks to complete this exercise:\n",
        "\n",
        "********************************************\n",
        "\n",
        "#### 1. Z-score standardize the predictor features (input.csv).\n",
        "\n",
        "#### 2. Perform spatial leave-one-out cross-validation with 15NN model for the provided data set (refer to the lectures 3.1.3 and 3.1.4 for help). Estimate the water permeability prediction performance (using 15NN model and C-index) with the following distance parameter values: d = 0, 10, 20, ..., 250 (that is, 10 meter intervals from 0m to 250m).\n",
        "\n",
        "#### 3. When you have calculated the C-index performance measure for each value of d, visualize the results with the C-index (y-axis) as a function of d (x-axis).\n",
        "\n",
        "********************************************\n",
        "\n",
        "Your .ipynb-file must include the following:\n",
        "\n",
        "- Your own implementation of the spatial leave-one-out cross-validation for the current task. You can use third-party libraries (e.g. Scikit-learn) if you want for implementing e.g. the 15-nearest neighbor. Also, try to follow good programming practices and add comments to relevant parts of your code explaining what you are doing and why.\n",
        "\n",
        "\n",
        "- Plot of the graph C-index vs. distance parameter value.\n",
        "\n",
        "\n",
        "<br><br><br>\n",
        "-- START IMPLEMENTING YOUR EXERCISE AFTER THIS LINE --\n",
        "<br><br><br>"
      ]
    },
    {
      "cell_type": "markdown",
      "metadata": {
        "id": "YI4PcgkR6hr4"
      },
      "source": [
        "### Import necessary libraries"
      ]
    },
    {
      "cell_type": "code",
      "execution_count": 2,
      "metadata": {
        "id": "Zxl1KOmk6hr7"
      },
      "outputs": [],
      "source": [
        "# In this cell, import all the libraries that you need. For example:\n",
        "import numpy as np\n",
        "import pandas as pd\n",
        "import matplotlib.pyplot as plt\n",
        "from sklearn.preprocessing import StandardScaler\n",
        "from sklearn.neighbors import KNeighborsRegressor\n",
        "\n",
        "\n",
        "\n"
      ]
    },
    {
      "cell_type": "markdown",
      "metadata": {
        "id": "oV72Ru466hr-"
      },
      "source": [
        "### Read in the datasets"
      ]
    },
    {
      "cell_type": "code",
      "execution_count": 3,
      "metadata": {
        "id": "nzRDaz8V6hsD",
        "colab": {
          "base_uri": "https://localhost:8080/"
        },
        "outputId": "c05dd9a9-0480-4796-9548-3d8a3ffbb347"
      },
      "outputs": [
        {
          "output_type": "stream",
          "name": "stdout",
          "text": [
            "Input Data dimensions:  (1691, 75)\n",
            "Output Data dimensions:  (1691, 1)\n",
            "Coordinates Data dimensions:  (1691, 2)\n"
          ]
        }
      ],
      "source": [
        "# In this cell, read the files input.csv, output.csv and coordinates.csv.\n",
        "# Print out the dataset dimesions (i.e. number of rows and columns).\n",
        "\n",
        "# Load the data\n",
        "input_data = pd.read_csv('/content/drive/MyDrive/input.csv',  header=None)\n",
        "output_data = pd.read_csv('/content/drive/MyDrive/output.csv',  header=None)\n",
        "coordinates = pd.read_csv('/content/drive/MyDrive/coordinates.csv',  header=None)\n",
        "print(\"Input Data dimensions: \",input_data.shape)\n",
        "print(\"Output Data dimensions: \",output_data.shape)\n",
        "print(\"Coordinates Data dimensions: \",coordinates.shape)\n"
      ]
    },
    {
      "cell_type": "code",
      "source": [
        "coordinates"
      ],
      "metadata": {
        "colab": {
          "base_uri": "https://localhost:8080/",
          "height": 424
        },
        "id": "PL2uPN5CaAxX",
        "outputId": "cc6e8b82-3b83-42e5-f4c9-c6e7b3c6ad8b"
      },
      "execution_count": 4,
      "outputs": [
        {
          "output_type": "execute_result",
          "data": {
            "text/plain": [
              "             0          1\n",
              "0     459140.0  7524200.0\n",
              "1     461590.0  7549000.0\n",
              "2     462040.0  7549300.0\n",
              "3     462040.0  7549300.0\n",
              "4     462130.0  7549400.0\n",
              "...        ...        ...\n",
              "1686  513840.0  7547100.0\n",
              "1687  514920.0  7556000.0\n",
              "1688  514990.0  7555500.0\n",
              "1689  515000.0  7556300.0\n",
              "1690  515120.0  7556400.0\n",
              "\n",
              "[1691 rows x 2 columns]"
            ],
            "text/html": [
              "\n",
              "  <div id=\"df-80b70af2-b51d-4722-ab4b-2fd07f69b146\" class=\"colab-df-container\">\n",
              "    <div>\n",
              "<style scoped>\n",
              "    .dataframe tbody tr th:only-of-type {\n",
              "        vertical-align: middle;\n",
              "    }\n",
              "\n",
              "    .dataframe tbody tr th {\n",
              "        vertical-align: top;\n",
              "    }\n",
              "\n",
              "    .dataframe thead th {\n",
              "        text-align: right;\n",
              "    }\n",
              "</style>\n",
              "<table border=\"1\" class=\"dataframe\">\n",
              "  <thead>\n",
              "    <tr style=\"text-align: right;\">\n",
              "      <th></th>\n",
              "      <th>0</th>\n",
              "      <th>1</th>\n",
              "    </tr>\n",
              "  </thead>\n",
              "  <tbody>\n",
              "    <tr>\n",
              "      <th>0</th>\n",
              "      <td>459140.0</td>\n",
              "      <td>7524200.0</td>\n",
              "    </tr>\n",
              "    <tr>\n",
              "      <th>1</th>\n",
              "      <td>461590.0</td>\n",
              "      <td>7549000.0</td>\n",
              "    </tr>\n",
              "    <tr>\n",
              "      <th>2</th>\n",
              "      <td>462040.0</td>\n",
              "      <td>7549300.0</td>\n",
              "    </tr>\n",
              "    <tr>\n",
              "      <th>3</th>\n",
              "      <td>462040.0</td>\n",
              "      <td>7549300.0</td>\n",
              "    </tr>\n",
              "    <tr>\n",
              "      <th>4</th>\n",
              "      <td>462130.0</td>\n",
              "      <td>7549400.0</td>\n",
              "    </tr>\n",
              "    <tr>\n",
              "      <th>...</th>\n",
              "      <td>...</td>\n",
              "      <td>...</td>\n",
              "    </tr>\n",
              "    <tr>\n",
              "      <th>1686</th>\n",
              "      <td>513840.0</td>\n",
              "      <td>7547100.0</td>\n",
              "    </tr>\n",
              "    <tr>\n",
              "      <th>1687</th>\n",
              "      <td>514920.0</td>\n",
              "      <td>7556000.0</td>\n",
              "    </tr>\n",
              "    <tr>\n",
              "      <th>1688</th>\n",
              "      <td>514990.0</td>\n",
              "      <td>7555500.0</td>\n",
              "    </tr>\n",
              "    <tr>\n",
              "      <th>1689</th>\n",
              "      <td>515000.0</td>\n",
              "      <td>7556300.0</td>\n",
              "    </tr>\n",
              "    <tr>\n",
              "      <th>1690</th>\n",
              "      <td>515120.0</td>\n",
              "      <td>7556400.0</td>\n",
              "    </tr>\n",
              "  </tbody>\n",
              "</table>\n",
              "<p>1691 rows × 2 columns</p>\n",
              "</div>\n",
              "    <div class=\"colab-df-buttons\">\n",
              "\n",
              "  <div class=\"colab-df-container\">\n",
              "    <button class=\"colab-df-convert\" onclick=\"convertToInteractive('df-80b70af2-b51d-4722-ab4b-2fd07f69b146')\"\n",
              "            title=\"Convert this dataframe to an interactive table.\"\n",
              "            style=\"display:none;\">\n",
              "\n",
              "  <svg xmlns=\"http://www.w3.org/2000/svg\" height=\"24px\" viewBox=\"0 -960 960 960\">\n",
              "    <path d=\"M120-120v-720h720v720H120Zm60-500h600v-160H180v160Zm220 220h160v-160H400v160Zm0 220h160v-160H400v160ZM180-400h160v-160H180v160Zm440 0h160v-160H620v160ZM180-180h160v-160H180v160Zm440 0h160v-160H620v160Z\"/>\n",
              "  </svg>\n",
              "    </button>\n",
              "\n",
              "  <style>\n",
              "    .colab-df-container {\n",
              "      display:flex;\n",
              "      gap: 12px;\n",
              "    }\n",
              "\n",
              "    .colab-df-convert {\n",
              "      background-color: #E8F0FE;\n",
              "      border: none;\n",
              "      border-radius: 50%;\n",
              "      cursor: pointer;\n",
              "      display: none;\n",
              "      fill: #1967D2;\n",
              "      height: 32px;\n",
              "      padding: 0 0 0 0;\n",
              "      width: 32px;\n",
              "    }\n",
              "\n",
              "    .colab-df-convert:hover {\n",
              "      background-color: #E2EBFA;\n",
              "      box-shadow: 0px 1px 2px rgba(60, 64, 67, 0.3), 0px 1px 3px 1px rgba(60, 64, 67, 0.15);\n",
              "      fill: #174EA6;\n",
              "    }\n",
              "\n",
              "    .colab-df-buttons div {\n",
              "      margin-bottom: 4px;\n",
              "    }\n",
              "\n",
              "    [theme=dark] .colab-df-convert {\n",
              "      background-color: #3B4455;\n",
              "      fill: #D2E3FC;\n",
              "    }\n",
              "\n",
              "    [theme=dark] .colab-df-convert:hover {\n",
              "      background-color: #434B5C;\n",
              "      box-shadow: 0px 1px 3px 1px rgba(0, 0, 0, 0.15);\n",
              "      filter: drop-shadow(0px 1px 2px rgba(0, 0, 0, 0.3));\n",
              "      fill: #FFFFFF;\n",
              "    }\n",
              "  </style>\n",
              "\n",
              "    <script>\n",
              "      const buttonEl =\n",
              "        document.querySelector('#df-80b70af2-b51d-4722-ab4b-2fd07f69b146 button.colab-df-convert');\n",
              "      buttonEl.style.display =\n",
              "        google.colab.kernel.accessAllowed ? 'block' : 'none';\n",
              "\n",
              "      async function convertToInteractive(key) {\n",
              "        const element = document.querySelector('#df-80b70af2-b51d-4722-ab4b-2fd07f69b146');\n",
              "        const dataTable =\n",
              "          await google.colab.kernel.invokeFunction('convertToInteractive',\n",
              "                                                    [key], {});\n",
              "        if (!dataTable) return;\n",
              "\n",
              "        const docLinkHtml = 'Like what you see? Visit the ' +\n",
              "          '<a target=\"_blank\" href=https://colab.research.google.com/notebooks/data_table.ipynb>data table notebook</a>'\n",
              "          + ' to learn more about interactive tables.';\n",
              "        element.innerHTML = '';\n",
              "        dataTable['output_type'] = 'display_data';\n",
              "        await google.colab.output.renderOutput(dataTable, element);\n",
              "        const docLink = document.createElement('div');\n",
              "        docLink.innerHTML = docLinkHtml;\n",
              "        element.appendChild(docLink);\n",
              "      }\n",
              "    </script>\n",
              "  </div>\n",
              "\n",
              "\n",
              "<div id=\"df-ce0394ae-7fad-4fb7-b487-654fe9bebddd\">\n",
              "  <button class=\"colab-df-quickchart\" onclick=\"quickchart('df-ce0394ae-7fad-4fb7-b487-654fe9bebddd')\"\n",
              "            title=\"Suggest charts\"\n",
              "            style=\"display:none;\">\n",
              "\n",
              "<svg xmlns=\"http://www.w3.org/2000/svg\" height=\"24px\"viewBox=\"0 0 24 24\"\n",
              "     width=\"24px\">\n",
              "    <g>\n",
              "        <path d=\"M19 3H5c-1.1 0-2 .9-2 2v14c0 1.1.9 2 2 2h14c1.1 0 2-.9 2-2V5c0-1.1-.9-2-2-2zM9 17H7v-7h2v7zm4 0h-2V7h2v10zm4 0h-2v-4h2v4z\"/>\n",
              "    </g>\n",
              "</svg>\n",
              "  </button>\n",
              "\n",
              "<style>\n",
              "  .colab-df-quickchart {\n",
              "      --bg-color: #E8F0FE;\n",
              "      --fill-color: #1967D2;\n",
              "      --hover-bg-color: #E2EBFA;\n",
              "      --hover-fill-color: #174EA6;\n",
              "      --disabled-fill-color: #AAA;\n",
              "      --disabled-bg-color: #DDD;\n",
              "  }\n",
              "\n",
              "  [theme=dark] .colab-df-quickchart {\n",
              "      --bg-color: #3B4455;\n",
              "      --fill-color: #D2E3FC;\n",
              "      --hover-bg-color: #434B5C;\n",
              "      --hover-fill-color: #FFFFFF;\n",
              "      --disabled-bg-color: #3B4455;\n",
              "      --disabled-fill-color: #666;\n",
              "  }\n",
              "\n",
              "  .colab-df-quickchart {\n",
              "    background-color: var(--bg-color);\n",
              "    border: none;\n",
              "    border-radius: 50%;\n",
              "    cursor: pointer;\n",
              "    display: none;\n",
              "    fill: var(--fill-color);\n",
              "    height: 32px;\n",
              "    padding: 0;\n",
              "    width: 32px;\n",
              "  }\n",
              "\n",
              "  .colab-df-quickchart:hover {\n",
              "    background-color: var(--hover-bg-color);\n",
              "    box-shadow: 0 1px 2px rgba(60, 64, 67, 0.3), 0 1px 3px 1px rgba(60, 64, 67, 0.15);\n",
              "    fill: var(--button-hover-fill-color);\n",
              "  }\n",
              "\n",
              "  .colab-df-quickchart-complete:disabled,\n",
              "  .colab-df-quickchart-complete:disabled:hover {\n",
              "    background-color: var(--disabled-bg-color);\n",
              "    fill: var(--disabled-fill-color);\n",
              "    box-shadow: none;\n",
              "  }\n",
              "\n",
              "  .colab-df-spinner {\n",
              "    border: 2px solid var(--fill-color);\n",
              "    border-color: transparent;\n",
              "    border-bottom-color: var(--fill-color);\n",
              "    animation:\n",
              "      spin 1s steps(1) infinite;\n",
              "  }\n",
              "\n",
              "  @keyframes spin {\n",
              "    0% {\n",
              "      border-color: transparent;\n",
              "      border-bottom-color: var(--fill-color);\n",
              "      border-left-color: var(--fill-color);\n",
              "    }\n",
              "    20% {\n",
              "      border-color: transparent;\n",
              "      border-left-color: var(--fill-color);\n",
              "      border-top-color: var(--fill-color);\n",
              "    }\n",
              "    30% {\n",
              "      border-color: transparent;\n",
              "      border-left-color: var(--fill-color);\n",
              "      border-top-color: var(--fill-color);\n",
              "      border-right-color: var(--fill-color);\n",
              "    }\n",
              "    40% {\n",
              "      border-color: transparent;\n",
              "      border-right-color: var(--fill-color);\n",
              "      border-top-color: var(--fill-color);\n",
              "    }\n",
              "    60% {\n",
              "      border-color: transparent;\n",
              "      border-right-color: var(--fill-color);\n",
              "    }\n",
              "    80% {\n",
              "      border-color: transparent;\n",
              "      border-right-color: var(--fill-color);\n",
              "      border-bottom-color: var(--fill-color);\n",
              "    }\n",
              "    90% {\n",
              "      border-color: transparent;\n",
              "      border-bottom-color: var(--fill-color);\n",
              "    }\n",
              "  }\n",
              "</style>\n",
              "\n",
              "  <script>\n",
              "    async function quickchart(key) {\n",
              "      const quickchartButtonEl =\n",
              "        document.querySelector('#' + key + ' button');\n",
              "      quickchartButtonEl.disabled = true;  // To prevent multiple clicks.\n",
              "      quickchartButtonEl.classList.add('colab-df-spinner');\n",
              "      try {\n",
              "        const charts = await google.colab.kernel.invokeFunction(\n",
              "            'suggestCharts', [key], {});\n",
              "      } catch (error) {\n",
              "        console.error('Error during call to suggestCharts:', error);\n",
              "      }\n",
              "      quickchartButtonEl.classList.remove('colab-df-spinner');\n",
              "      quickchartButtonEl.classList.add('colab-df-quickchart-complete');\n",
              "    }\n",
              "    (() => {\n",
              "      let quickchartButtonEl =\n",
              "        document.querySelector('#df-ce0394ae-7fad-4fb7-b487-654fe9bebddd button');\n",
              "      quickchartButtonEl.style.display =\n",
              "        google.colab.kernel.accessAllowed ? 'block' : 'none';\n",
              "    })();\n",
              "  </script>\n",
              "</div>\n",
              "    </div>\n",
              "  </div>\n"
            ],
            "application/vnd.google.colaboratory.intrinsic+json": {
              "type": "dataframe",
              "variable_name": "coordinates",
              "summary": "{\n  \"name\": \"coordinates\",\n  \"rows\": 1691,\n  \"fields\": [\n    {\n      \"column\": 0,\n      \"properties\": {\n        \"dtype\": \"number\",\n        \"std\": 14259.298519848933,\n        \"min\": 459140.0,\n        \"max\": 515120.0,\n        \"samples\": [\n          482330.0,\n          480330.0,\n          464570.0\n        ],\n        \"num_unique_values\": 638,\n        \"semantic_type\": \"\",\n        \"description\": \"\"\n      }\n    },\n    {\n      \"column\": 1,\n      \"properties\": {\n        \"dtype\": \"number\",\n        \"std\": 12609.644905378545,\n        \"min\": 7489200.0,\n        \"max\": 7556900.0,\n        \"samples\": [\n          7528600.0,\n          7514900.0,\n          7516300.0\n        ],\n        \"num_unique_values\": 331,\n        \"semantic_type\": \"\",\n        \"description\": \"\"\n      }\n    }\n  ]\n}"
            }
          },
          "metadata": {},
          "execution_count": 4
        }
      ]
    },
    {
      "cell_type": "markdown",
      "metadata": {
        "id": "5XssDhFj6hsJ"
      },
      "source": [
        "### Standardization of the predictor features (input.csv)"
      ]
    },
    {
      "cell_type": "code",
      "execution_count": 5,
      "metadata": {
        "id": "mCgNr5UZ6hsK"
      },
      "outputs": [],
      "source": [
        "# Standardize the predictor features (input.csv) by removing the mean and scaling to unit variance.\n",
        "# In other words, z-score the predictor features. You are allowed to use third-party libraries for doing this.\n",
        "\n",
        "# Z-score standardization of the input data keeping it in scaled_data\n",
        "scaler = StandardScaler()\n",
        "scaled_data = pd.DataFrame(scaler.fit_transform(input_data))"
      ]
    },
    {
      "cell_type": "markdown",
      "metadata": {
        "id": "tzGaL3EH6hsM"
      },
      "source": [
        "### Functions and analysis code"
      ]
    },
    {
      "cell_type": "code",
      "execution_count": 6,
      "metadata": {
        "id": "fvUziM2w6hsO"
      },
      "outputs": [],
      "source": [
        "# Include here all the functions and other relevant code that you need in order to implement the task.\n",
        "\n",
        "# Note! Utilize the following two functions in your implementation:\n",
        "\n",
        "### Function for calculating C-index ###\n",
        "# y: array containing true label values.\n",
        "# yp: array containing the predicted label values.\n",
        "def cindex(y, yp):\n",
        "    n = 0\n",
        "    h_num = 0\n",
        "    for i in range(0, len(y)):\n",
        "        t = y[i]\n",
        "        p = yp[i]\n",
        "        for j in range(i+1, len(y)):\n",
        "            nt = y[j]\n",
        "            np = yp[j]\n",
        "            if (t != nt):\n",
        "                n = n + 1\n",
        "                if (p < np and t < nt) or (p > np and t > nt):\n",
        "                    h_num += 1\n",
        "                elif (p == np):\n",
        "                    h_num += 0.5\n",
        "    return h_num/n\n",
        "\n",
        "\n",
        "### Function for calculating the pairwise spatial distances between the data points ###\n",
        "# The function will return a n-by-n matrix of Euclidean distances. For example, the\n",
        "# distance_matrix element at indices i,j will contain the spatial distance between\n",
        "# data point i and j. Note that the element value is 0 always when i==j.\n",
        "# coordinate_array: n-by-2 array containing the coordinates of the exercise data points.\n",
        "def cdists(coordinate_array):\n",
        "    number_of_observations = coordinate_array.shape[0]\n",
        "    distance_matrix = np.zeros((number_of_observations, number_of_observations))\n",
        "    for i in range(0, number_of_observations):\n",
        "        distance_matrix[i, :] = np.sqrt(np.sum((coordinate_array - coordinate_array[i])**2, axis=1))\n",
        "    return distance_matrix"
      ]
    },
    {
      "cell_type": "markdown",
      "metadata": {
        "id": "8gHhBfYS6hsP"
      },
      "source": [
        "### Results for spatial leave-one-out cross-validation with 15-nearest neighbor regression model"
      ]
    },
    {
      "cell_type": "code",
      "source": [
        "# Define distance parameter values from 0 to 250 in 10-meter(m) intervals\n",
        "\n",
        "d_values = np.arange(0, 251, 10)  # Distance parameter values\n",
        "# Perform spatial leave-one-out cross-validation with 15NN model\n",
        "\n",
        "dist = cdists(coordinates.values) # calculate a distance from the data points to the rest\n",
        "X=scaled_data.values #(Getting scaled_data input values only from dataframe)\n",
        "y=output_data.values #(Getting output values only from dataframe)\n",
        "c_index_scores=[] #Keeping an array for storing Cindex vallues for different distance paramter values\n",
        "\n",
        "for d in d_values:\n",
        "    predictions=[]  # 2 arrays for keeping predictions and answers for a particular delta value\n",
        "    answers=[]\n",
        "\n",
        "    for i in range(len(X)):\n",
        "        X_test = X[i].reshape(1, -1)\n",
        "        # Exclude the current data point from the dataset\n",
        "\n",
        "        # Storing only the X_train, y_train for which distance from data point to the next is greater than specified delta value\n",
        "        X_train = X[dist[i] > d]\n",
        "        y_train = y[dist[i] > d]\n",
        "\n",
        "        y_test = y[i].reshape(1, -1)\n",
        "\n",
        "        # Fit K-nearest neighbor regression model with distance metric set as Euclidean\n",
        "        knn_model = KNeighborsRegressor(n_neighbors=15, metric='euclidean')\n",
        "        knn_model.fit(X_train, y_train)\n",
        "\n",
        "        # Storing results after testing on test set\n",
        "        y_pred = knn_model.predict(X_test)\n",
        "        predictions.append(y_pred)\n",
        "        answers.append(y_test)\n",
        "\n",
        "# Storing the cindex for a particular iterations and also appending to the total list of cindex values to be plotted later against distance parameter values\n",
        "    c_index_per_iteration=cindex( answers, predictions)\n",
        "    c_index_scores.append((c_index_per_iteration))\n",
        "\n",
        "    #print(\"C index scores: \", c_index_scores)\n",
        "\n",
        "\n"
      ],
      "metadata": {
        "id": "q7Nc96OJRSq7"
      },
      "execution_count": null,
      "outputs": []
    },
    {
      "cell_type": "code",
      "source": [
        "# Visualize the results with C-index as a function of distance parameter value\n",
        "plt.plot(d_values, c_index_scores, marker='o')\n",
        "plt.title('C-index vs. Distance Parameter Value')\n",
        "plt.xlabel('Distance Parameter Value (m)')\n",
        "plt.ylabel('C-index')\n",
        "plt.grid(True)\n",
        "plt.show()"
      ],
      "metadata": {
        "colab": {
          "base_uri": "https://localhost:8080/",
          "height": 472
        },
        "id": "hCDWToSoQ68-",
        "outputId": "40dd79f3-3b02-4efe-8408-06b6dff220a8"
      },
      "execution_count": 8,
      "outputs": [
        {
          "output_type": "display_data",
          "data": {
            "text/plain": [
              "<Figure size 640x480 with 1 Axes>"
            ],
            "image/png": "[encoded data removed]"
          },
          "metadata": {}
        }
      ]
    },
    {
      "cell_type": "code",
      "source": [
        "d_values"
      ],
      "metadata": {
        "colab": {
          "base_uri": "https://localhost:8080/"
        },
        "id": "1OniRCAmRZdO",
        "outputId": "572c4fa1-6fb2-46b9-e6c0-eebf2dfc5d79"
      },
      "execution_count": 9,
      "outputs": [
        {
          "output_type": "execute_result",
          "data": {
            "text/plain": [
              "array([  0,  10,  20,  30,  40,  50,  60,  70,  80,  90, 100, 110, 120,\n",
              "       130, 140, 150, 160, 170, 180, 190, 200, 210, 220, 230, 240, 250])"
            ]
          },
          "metadata": {},
          "execution_count": 9
        }
      ]
    },
    {
      "cell_type": "code",
      "source": [
        "c_index_scores"
      ],
      "metadata": {
        "colab": {
          "base_uri": "https://localhost:8080/"
        },
        "id": "iYaLp1w8Rayg",
        "outputId": "b44af2a4-acf1-433a-de45-aa94eed57b2a"
      },
      "execution_count": 10,
      "outputs": [
        {
          "output_type": "execute_result",
          "data": {
            "text/plain": [
              "[0.7177592537892203,\n",
              " 0.7139584841158626,\n",
              " 0.7128466014959494,\n",
              " 0.709170424272289,\n",
              " 0.7070054554693985,\n",
              " 0.7012710529741898,\n",
              " 0.6957557372023255,\n",
              " 0.6889227512812723,\n",
              " 0.6847534539406912,\n",
              " 0.6803111731429076,\n",
              " 0.6750586914432986,\n",
              " 0.6346620394804074,\n",
              " 0.6034110332913826,\n",
              " 0.5899749975151506,\n",
              " 0.5868906344275537,\n",
              " 0.5843228400358939,\n",
              " 0.5835843847862819,\n",
              " 0.5829103256342666,\n",
              " 0.5829778715409846,\n",
              " 0.581672800628282,\n",
              " 0.5805210204261622,\n",
              " 0.5781226157694843,\n",
              " 0.5778366830970043,\n",
              " 0.5773890602229504,\n",
              " 0.5770887784200277,\n",
              " 0.5772333196608286]"
            ]
          },
          "metadata": {},
          "execution_count": 10
        }
      ]
    },
    {
      "cell_type": "markdown",
      "metadata": {
        "id": "hNXTC_vp6hsU"
      },
      "source": [
        "### Interpretation of the results"
      ]
    },
    {
      "cell_type": "code",
      "execution_count": 12,
      "metadata": {
        "id": "vPJpXOw-6hsV"
      },
      "outputs": [],
      "source": [
        "# In this cell, give a brief commentary on the results, what happens to the prediction\n",
        "# performance as the prediction distance increases?"
      ]
    },
    {
      "cell_type": "markdown",
      "source": [
        "\n",
        "The greatest c-index values appear to be between 0.68 and 0.72 and as the distance increases, the performance drops. The model appears to be unreliable for predicting data points that are more than 100 meters away from the training set, as evidenced by the notable decline in performance at this distance.\n",
        "\n",
        "This means that until the distance parameter value is greater than 100, the C-Index appears to be appropriate. Delta > 100 results in a sharp decline in accuracy, indicating that accuracy decreases with increasing distance between known and unknown data points. It seems that when we take into account a larger distance parameter, more data points are excluded from the training set, which lowers the cindex function's performance because it is less optimistic.\n"
      ],
      "metadata": {
        "id": "MW5GT7viDt6q"
      }
    },
    {
      "cell_type": "code",
      "source": [],
      "metadata": {
        "id": "dP_9rCbm9YDB"
      },
      "execution_count": 12,
      "outputs": []
    }
  ],
  "metadata": {
    "kernelspec": {
      "display_name": "Python 3",
      "name": "python3"
    },
    "language_info": {
      "codemirror_mode": {
        "name": "ipython",
        "version": 3
      },
      "file_extension": ".py",
      "mimetype": "text/x-python",
      "name": "python",
      "nbconvert_exporter": "python",
      "pygments_lexer": "ipython3",
      "version": "3.11.5"
    },
    "toc": {
      "base_numbering": 1,
      "nav_menu": {},
      "number_sections": false,
      "sideBar": true,
      "skip_h1_title": false,
      "title_cell": "Table of Contents",
      "title_sidebar": "Contents",
      "toc_cell": false,
      "toc_position": {},
      "toc_section_display": true,
      "toc_window_display": true
    },
    "varInspector": {
      "cols": {
        "lenName": 16,
        "lenType": 16,
        "lenVar": 40
      },
      "kernels_config": {
        "python": {
          "delete_cmd_postfix": "",
          "delete_cmd_prefix": "del ",
          "library": "var_list.py",
          "varRefreshCmd": "print(var_dic_list())"
        },
        "r": {
          "delete_cmd_postfix": ") ",
          "delete_cmd_prefix": "rm(",
          "library": "var_list.r",
          "varRefreshCmd": "cat(var_dic_list()) "
        }
      },
      "types_to_exclude": [
        "module",
        "function",
        "builtin_function_or_method",
        "instance",
        "_Feature"
      ],
      "window_display": false
    },
    "colab": {
      "provenance": [],
      "gpuType": "T4"
    },
    "accelerator": "GPU"
  },
  "nbformat": 4,
  "nbformat_minor": 0
}